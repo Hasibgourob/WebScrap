{
 "cells": [
  {
   "cell_type": "code",
   "execution_count": 7,
   "id": "9db1679d-a669-4500-a2f7-9776c8ab46a7",
   "metadata": {},
   "outputs": [
    {
     "name": "stdout",
     "output_type": "stream",
     "text": [
      "Data extraction complete!\n"
     ]
    }
   ],
   "source": [
    "import pandas as pd\n",
    "import requests\n",
    "from bs4 import BeautifulSoup\n",
    "\n",
    "\n",
    "csv_file = 'C:/Users/DA/Desktop/Rokomari_Leaderboard_13.02.25.csv'\n",
    "links_df = pd.read_csv(csv_file)\n",
    "\n",
    "\n",
    "book_data = []\n",
    "\n",
    "# Iterate over each link in the CSV\n",
    "for link in links_df['Link']:  # Assuming the column name is 'Link'\n",
    "    # Send request to the URL\n",
    "    response = requests.get(link)\n",
    "\n",
    "    # If the response is successful\n",
    "    if response.status_code == 200:\n",
    "        # Check if the URL is the generic \"book\" page\n",
    "        if response.url == \"https://www.rokomari.com/book\":\n",
    "            # If it redirects to the generic page, mark it as \"Book Unavailable\"\n",
    "            book_data.append({'Link': link, 'Price': 'Book Unavailable'})\n",
    "        else:\n",
    "            # Parse the HTML content if it's a valid book page\n",
    "            soup = BeautifulSoup(response.content, 'html.parser')\n",
    "\n",
    "            # Find the sell price on the page\n",
    "            price = soup.find('span', class_='sell-price')  # Assuming this is the correct class for price\n",
    "\n",
    "            if price:\n",
    "                # If price is found, save the link and the price\n",
    "                price = price.text.strip()\n",
    "                book_data.append({'Link': link, 'Price': price})\n",
    "            else:\n",
    "                # If price is not found, mark as \"Book Unavailable\"\n",
    "                book_data.append({'Link': link, 'Price': 'Book Unavailable'})\n",
    "\n",
    "# Create a new DataFrame from the extracted data\n",
    "output_df = pd.DataFrame(book_data)\n",
    "\n",
    "# Save the output to a new CSV file\n",
    "output_df.to_csv('C:/Users/DA/Desktop/Rokomari_books_prices.csv', index=False)\n",
    "\n",
    "print(\"Data extraction complete!\")\n"
   ]
  },
  {
   "cell_type": "code",
   "execution_count": null,
   "id": "493c3a08-00fe-4166-befd-9ccf5eafb8d5",
   "metadata": {},
   "outputs": [],
   "source": []
  }
 ],
 "metadata": {
  "kernelspec": {
   "display_name": "Python [conda env:base] *",
   "language": "python",
   "name": "conda-base-py"
  },
  "language_info": {
   "codemirror_mode": {
    "name": "ipython",
    "version": 3
   },
   "file_extension": ".py",
   "mimetype": "text/x-python",
   "name": "python",
   "nbconvert_exporter": "python",
   "pygments_lexer": "ipython3",
   "version": "3.12.7"
  }
 },
 "nbformat": 4,
 "nbformat_minor": 5
}
